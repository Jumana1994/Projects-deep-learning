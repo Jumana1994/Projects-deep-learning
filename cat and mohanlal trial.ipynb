{
 "cells": [
  {
   "cell_type": "code",
   "execution_count": 1,
   "id": "3df0319e-9849-4fd9-a0b2-0f9b6920905d",
   "metadata": {},
   "outputs": [],
   "source": [
    "# 1:-CREATE A MULTICLASS CLASSIFICATION TO IDENTIFY THE BRAND OF\n",
    "# CARS[MINIMUM 4 CLASSES] WITH HUMAN AS THE 5TH CLASS USING DEEP LEARNING\n",
    "# (PREFERRED CNN)"
   ]
  },
  {
   "cell_type": "code",
   "execution_count": 2,
   "id": "b2ea89b9-fb6a-4bb8-9847-d80791631ff3",
   "metadata": {},
   "outputs": [],
   "source": [
    "import sklearn\n",
    "import numpy as np\n",
    "import pandas as pd\n",
    "import tensorflow as tf\n",
    "import cv2\n",
    "import matplotlib.pyplot as plt\n",
    "import pathlib\n",
    "import glob as glob"
   ]
  },
  {
   "cell_type": "code",
   "execution_count": 3,
   "id": "87d348c2-8f15-4e27-922b-39e4633ebbc2",
   "metadata": {},
   "outputs": [],
   "source": [
    "from tensorflow.keras import Sequential\n",
    "from tensorflow.keras.layers import Dense,Flatten,Conv2D,MaxPool2D\n",
    "from tensorflow.keras.optimizers import Adam\n",
    "from tensorflow.keras.losses import SparseCategoricalCrossentropy\n"
   ]
  },
  {
   "cell_type": "code",
   "execution_count": 4,
   "id": "c6feed18-9b5c-4da2-9444-f019c7c3d2f7",
   "metadata": {},
   "outputs": [],
   "source": [
    "path=pathlib.Path(r\"C:\\Users\\User\\Desktop\\cars\")"
   ]
  },
  {
   "cell_type": "code",
   "execution_count": 5,
   "id": "ec9fe020-0b86-4260-8499-e00cf391960d",
   "metadata": {},
   "outputs": [],
   "source": [
    "Audi_list=list(path.glob(\"Audi/*\"))\n",
    "Hyundai_list=list(path.glob(\"Hyundai Creta/*\"))\n",
    "Mahindra_list=list(path.glob(\"Mahindra Scorpio/*\"))\n",
    "Rolls_list=list(path.glob(\"Rolls Royce/*\"))\n",
    "mohanlal_list=list(path.glob(\"mohanlal/*\"))"
   ]
  },
  {
   "cell_type": "code",
   "execution_count": 19,
   "id": "457c692c-5188-4068-af02-95b95a339092",
   "metadata": {},
   "outputs": [
    {
     "data": {
      "text/plain": [
       "(814, 271, 316, 311, 778)"
      ]
     },
     "execution_count": 19,
     "metadata": {},
     "output_type": "execute_result"
    }
   ],
   "source": [
    "len(Audi_list),len(Hyundai_list),len(Mahindra_list),len(Rolls_list),len(mohanlal_list)"
   ]
  },
  {
   "cell_type": "code",
   "execution_count": 20,
   "id": "b330763b-796f-4a1f-aac9-e6fdc09c5d52",
   "metadata": {},
   "outputs": [],
   "source": [
    "cars=[\"Audi\",\"Hyundai Creta\",\"Mahindra Scorpio\",\"Rolls Royce\",\"mohanlal\"]"
   ]
  },
  {
   "cell_type": "code",
   "execution_count": 21,
   "id": "46a90ce1-d325-4a2e-b41d-f2075c96c575",
   "metadata": {},
   "outputs": [],
   "source": [
    "x=[]\n",
    "y=[]\n",
    "for i in cars:\n",
    "    i_path=path.glob(str(i)+\"\\*\")\n",
    "    ind=cars.index\n",
    "    for j in i_path:\n",
    "        img=cv2.imread(str(j))\n",
    "        img=cv2.resize(img,(150,150))\n",
    "        img=img/225\n",
    "        x.append(img)\n",
    "        y.append(ind)\n",
    "    "
   ]
  },
  {
   "cell_type": "code",
   "execution_count": 22,
   "id": "b52d2795-e6be-4e76-92fd-870888988d29",
   "metadata": {},
   "outputs": [],
   "source": [
    "x=np.array(x)\n",
    "y=np.array(y)"
   ]
  },
  {
   "cell_type": "code",
   "execution_count": 23,
   "id": "537f2744-dfe0-472c-940b-4041b13e6eba",
   "metadata": {},
   "outputs": [
    {
     "data": {
      "text/plain": [
       "(2490, 150, 150, 3)"
      ]
     },
     "execution_count": 23,
     "metadata": {},
     "output_type": "execute_result"
    }
   ],
   "source": [
    "x.shape"
   ]
  },
  {
   "cell_type": "code",
   "execution_count": 24,
   "id": "bd4fddb4-916a-421d-99f8-14a953120aa3",
   "metadata": {},
   "outputs": [],
   "source": [
    "from sklearn.model_selection import train_test_split\n",
    "xtrain,xtest,ytrain,ytest=train_test_split(x,y,train_size=.75,random_state=1)"
   ]
  },
  {
   "cell_type": "code",
   "execution_count": 25,
   "id": "73ce779d-e655-4fd5-a3d6-38b58591c7d2",
   "metadata": {},
   "outputs": [
    {
     "data": {
      "text/plain": [
       "(1867, 150, 150, 3)"
      ]
     },
     "execution_count": 25,
     "metadata": {},
     "output_type": "execute_result"
    }
   ],
   "source": [
    "xtrain.shape"
   ]
  },
  {
   "cell_type": "code",
   "execution_count": 26,
   "id": "54ac17dd-bad7-4a8c-9163-d442d65f5845",
   "metadata": {},
   "outputs": [
    {
     "data": {
      "text/plain": [
       "(1867,)"
      ]
     },
     "execution_count": 26,
     "metadata": {},
     "output_type": "execute_result"
    }
   ],
   "source": [
    "ytrain.shape"
   ]
  },
  {
   "cell_type": "code",
   "execution_count": 27,
   "id": "8a1549b8-f3f7-4169-8cb8-b8292691cd02",
   "metadata": {},
   "outputs": [
    {
     "data": {
      "text/plain": [
       "(1867, 1867)"
      ]
     },
     "execution_count": 27,
     "metadata": {},
     "output_type": "execute_result"
    }
   ],
   "source": [
    "len(xtrain),len(ytrain)"
   ]
  },
  {
   "cell_type": "code",
   "execution_count": 28,
   "id": "908db965-48e8-481d-927b-0f08cfa00dee",
   "metadata": {},
   "outputs": [],
   "source": [
    "model=Sequential()\n",
    "model.add(Conv2D(filters=50,kernel_size=(3,3),input_shape=(224,224,3),activation='relu',strides=1,padding='same'))\n",
    "model.add(MaxPool2D(pool_size=(2, 2)))\n",
    "model.add(Conv2D(filters=50,kernel_size=(3,3),activation='relu',strides=1,padding='same'))\n",
    "model.add(MaxPool2D(pool_size=(2, 2)))\n",
    "model.add(Flatten())\n",
    "model.add(Dense(100,activation='relu'))\n",
    "model.add(Dense(5,activation='softmax'))"
   ]
  },
  {
   "cell_type": "code",
   "execution_count": 29,
   "id": "8a23f8fd-402f-4d49-87b9-05e53ff14a4b",
   "metadata": {},
   "outputs": [
    {
     "name": "stdout",
     "output_type": "stream",
     "text": [
      "Model: \"sequential_1\"\n",
      "_________________________________________________________________\n",
      " Layer (type)                Output Shape              Param #   \n",
      "=================================================================\n",
      " conv2d_2 (Conv2D)           (None, 224, 224, 50)      1400      \n",
      "                                                                 \n",
      " max_pooling2d_2 (MaxPooling  (None, 112, 112, 50)     0         \n",
      " 2D)                                                             \n",
      "                                                                 \n",
      " conv2d_3 (Conv2D)           (None, 112, 112, 50)      22550     \n",
      "                                                                 \n",
      " max_pooling2d_3 (MaxPooling  (None, 56, 56, 50)       0         \n",
      " 2D)                                                             \n",
      "                                                                 \n",
      " flatten_1 (Flatten)         (None, 156800)            0         \n",
      "                                                                 \n",
      " dense_2 (Dense)             (None, 5)                 784005    \n",
      "                                                                 \n",
      " dense_3 (Dense)             (None, 5)                 30        \n",
      "                                                                 \n",
      "=================================================================\n",
      "Total params: 807,985\n",
      "Trainable params: 807,985\n",
      "Non-trainable params: 0\n",
      "_________________________________________________________________\n"
     ]
    }
   ],
   "source": [
    "model.summary()"
   ]
  },
  {
   "cell_type": "code",
   "execution_count": 33,
   "id": "259e5970-d8ad-4075-ad16-346c55da425b",
   "metadata": {},
   "outputs": [],
   "source": [
    "model.compile(optimizer=Adam(),loss=SparseCategoricalCrossentropy(),metrics=['accuracy'])"
   ]
  },
  {
   "cell_type": "code",
   "execution_count": 34,
   "id": "8f590cd9-dbaa-4d58-91cd-5f0d1cf5015a",
   "metadata": {},
   "outputs": [
    {
     "ename": "ValueError",
     "evalue": "Failed to convert a NumPy array to a Tensor (Unsupported object type builtin_function_or_method).",
     "output_type": "error",
     "traceback": [
      "\u001b[1;31m---------------------------------------------------------------------------\u001b[0m",
      "\u001b[1;31mValueError\u001b[0m                                Traceback (most recent call last)",
      "Input \u001b[1;32mIn [34]\u001b[0m, in \u001b[0;36m<cell line: 1>\u001b[1;34m()\u001b[0m\n\u001b[1;32m----> 1\u001b[0m hist\u001b[38;5;241m=\u001b[39m\u001b[43mmodel\u001b[49m\u001b[38;5;241;43m.\u001b[39;49m\u001b[43mfit\u001b[49m\u001b[43m(\u001b[49m\u001b[43mxtrain\u001b[49m\u001b[43m,\u001b[49m\u001b[43mytrain\u001b[49m\u001b[43m,\u001b[49m\u001b[43mvalidation_data\u001b[49m\u001b[38;5;241;43m=\u001b[39;49m\u001b[43m(\u001b[49m\u001b[43mxtest\u001b[49m\u001b[43m,\u001b[49m\u001b[43mytest\u001b[49m\u001b[43m)\u001b[49m\u001b[43m,\u001b[49m\u001b[43mepochs\u001b[49m\u001b[38;5;241;43m=\u001b[39;49m\u001b[38;5;241;43m10\u001b[39;49m\u001b[43m,\u001b[49m\u001b[43mbatch_size\u001b[49m\u001b[38;5;241;43m=\u001b[39;49m\u001b[38;5;241;43m100\u001b[39;49m\u001b[43m,\u001b[49m\u001b[43mverbose\u001b[49m\u001b[38;5;241;43m=\u001b[39;49m\u001b[38;5;241;43m1\u001b[39;49m\u001b[43m)\u001b[49m\n",
      "File \u001b[1;32m~\\anaconda3\\lib\\site-packages\\keras\\utils\\traceback_utils.py:67\u001b[0m, in \u001b[0;36mfilter_traceback.<locals>.error_handler\u001b[1;34m(*args, **kwargs)\u001b[0m\n\u001b[0;32m     65\u001b[0m \u001b[38;5;28;01mexcept\u001b[39;00m \u001b[38;5;167;01mException\u001b[39;00m \u001b[38;5;28;01mas\u001b[39;00m e:  \u001b[38;5;66;03m# pylint: disable=broad-except\u001b[39;00m\n\u001b[0;32m     66\u001b[0m   filtered_tb \u001b[38;5;241m=\u001b[39m _process_traceback_frames(e\u001b[38;5;241m.\u001b[39m__traceback__)\n\u001b[1;32m---> 67\u001b[0m   \u001b[38;5;28;01mraise\u001b[39;00m e\u001b[38;5;241m.\u001b[39mwith_traceback(filtered_tb) \u001b[38;5;28;01mfrom\u001b[39;00m \u001b[38;5;28mNone\u001b[39m\n\u001b[0;32m     68\u001b[0m \u001b[38;5;28;01mfinally\u001b[39;00m:\n\u001b[0;32m     69\u001b[0m   \u001b[38;5;28;01mdel\u001b[39;00m filtered_tb\n",
      "File \u001b[1;32m~\\anaconda3\\lib\\site-packages\\tensorflow\\python\\framework\\constant_op.py:102\u001b[0m, in \u001b[0;36mconvert_to_eager_tensor\u001b[1;34m(value, ctx, dtype)\u001b[0m\n\u001b[0;32m    100\u001b[0m     dtype \u001b[38;5;241m=\u001b[39m dtypes\u001b[38;5;241m.\u001b[39mas_dtype(dtype)\u001b[38;5;241m.\u001b[39mas_datatype_enum\n\u001b[0;32m    101\u001b[0m ctx\u001b[38;5;241m.\u001b[39mensure_initialized()\n\u001b[1;32m--> 102\u001b[0m \u001b[38;5;28;01mreturn\u001b[39;00m \u001b[43mops\u001b[49m\u001b[38;5;241;43m.\u001b[39;49m\u001b[43mEagerTensor\u001b[49m\u001b[43m(\u001b[49m\u001b[43mvalue\u001b[49m\u001b[43m,\u001b[49m\u001b[43m \u001b[49m\u001b[43mctx\u001b[49m\u001b[38;5;241;43m.\u001b[39;49m\u001b[43mdevice_name\u001b[49m\u001b[43m,\u001b[49m\u001b[43m \u001b[49m\u001b[43mdtype\u001b[49m\u001b[43m)\u001b[49m\n",
      "\u001b[1;31mValueError\u001b[0m: Failed to convert a NumPy array to a Tensor (Unsupported object type builtin_function_or_method)."
     ]
    }
   ],
   "source": [
    "hist=model.fit(xtrain,ytrain,validation_data=(xtest,ytest),epochs=10,batch_size=100,verbose=1)"
   ]
  },
  {
   "cell_type": "code",
   "execution_count": null,
   "id": "222ac591-b2dc-4af1-a7e2-2f310d4e5283",
   "metadata": {},
   "outputs": [],
   "source": []
  }
 ],
 "metadata": {
  "kernelspec": {
   "display_name": "Python 3 (ipykernel)",
   "language": "python",
   "name": "python3"
  },
  "language_info": {
   "codemirror_mode": {
    "name": "ipython",
    "version": 3
   },
   "file_extension": ".py",
   "mimetype": "text/x-python",
   "name": "python",
   "nbconvert_exporter": "python",
   "pygments_lexer": "ipython3",
   "version": "3.9.12"
  }
 },
 "nbformat": 4,
 "nbformat_minor": 5
}
